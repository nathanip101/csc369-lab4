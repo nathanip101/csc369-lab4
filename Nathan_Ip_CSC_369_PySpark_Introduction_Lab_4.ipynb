{
  "cells": [
    {
      "cell_type": "markdown",
      "metadata": {
        "id": "4yQ9QCIhsShu"
      },
      "source": [
        "# Introduction to Apache Spark / PySpark\n",
        "\n",
        "These examples are based on [Spark 3.3.x](https://spark.apache.org/docs/3.3.0/)  \n",
        "\n",
        "Reference/API Links\n",
        "\n",
        "\n",
        "*   [Apache Spark Quick Start](https://spark.apache.org/docs/3.3.0/quick-start.html)\n",
        "*   [PySpark v3.3.0 API](https://spark.apache.org/docs/3.3.0/api/python/reference/index.html)\n",
        "*    [RDD Programming Guide](https://spark.apache.org/docs/3.3.0/rdd-programming-guide.html)\n",
        "*    [Spark SQL Programming Guide](https://spark.apache.org/docs/3.3.0/sql-programming-guide.html)\n",
        "\n",
        "\n",
        "\n",
        "\n",
        "\n",
        "\n",
        "\n"
      ]
    },
    {
      "cell_type": "code",
      "execution_count": 1,
      "metadata": {
        "colab": {
          "base_uri": "https://localhost:8080/"
        },
        "id": "NoolY63aauhH",
        "outputId": "230dcaed-0704-4497-e2e8-d019154dbb08"
      },
      "outputs": [
        {
          "name": "stdout",
          "output_type": "stream",
          "text": [
            "Requirement already satisfied: pyspark in /usr/local/lib/python3.10/dist-packages (3.4.1)\n",
            "Requirement already satisfied: py4j==0.10.9.7 in /usr/local/lib/python3.10/dist-packages (from pyspark) (0.10.9.7)\n",
            "openjdk-8-jdk-headless is already the newest version (8u372-ga~us1-0ubuntu1~22.04).\n",
            "0 upgraded, 0 newly installed, 0 to remove and 8 not upgraded.\n"
          ]
        }
      ],
      "source": [
        "!pip install pyspark\n",
        "!pip install -U -q PyDrive\n",
        "!apt install openjdk-8-jdk-headless -qq\n",
        "import os\n",
        "os.environ[\"JAVA_HOME\"] = \"/usr/lib/jvm/java-8-openjdk-amd64\""
      ]
    },
    {
      "cell_type": "markdown",
      "metadata": {
        "id": "tad7fmwTbMwW"
      },
      "source": [
        "\n",
        "# Imports / Starter Example\n",
        "\n",
        "\n"
      ]
    },
    {
      "cell_type": "code",
      "execution_count": 2,
      "metadata": {
        "id": "XKUgYFX9olK5"
      },
      "outputs": [],
      "source": [
        "from pyspark import SparkContext, SparkConf\n",
        "from pyspark.sql import SparkSession, SQLContext\n",
        "from pyspark.sql import types as sparktypes\n",
        "from pyspark.sql.functions import *\n",
        "\n",
        "\n",
        "sc = SparkContext()\n",
        "spark = SparkSession(sc)"
      ]
    },
    {
      "cell_type": "code",
      "execution_count": 3,
      "metadata": {
        "colab": {
          "base_uri": "https://localhost:8080/"
        },
        "id": "z53FFQEDayTj",
        "outputId": "9deee4bd-bde4-4b0b-819d-6bb0e82f6eef"
      },
      "outputs": [
        {
          "name": "stdout",
          "output_type": "stream",
          "text": [
            "[400, 441, 484, 529, 576, 625, 676, 729, 784, 841, 900, 961, 1024, 1089, 1156, 1225, 1296, 1369, 1444, 1521, 1600, 1681, 1764, 1849, 1936, 2025, 2116, 2209, 2304, 2401, 2500, 2601, 2704, 2809, 2916, 3025, 3136, 3249, 3364, 3481, 3600, 3721, 3844, 3969, 4096, 4225, 4356, 4489, 4624, 4761, 4900, 5041, 5184, 5329, 5476, 5625, 5776, 5929, 6084, 6241, 6400, 6561, 6724, 6889, 7056, 7225, 7396, 7569, 7744, 7921, 8100, 8281, 8464, 8649, 8836, 9025, 9216, 9409, 9604, 9801]\n",
            "325880\n"
          ]
        }
      ],
      "source": [
        "# create a Resilient Distributed Dataset (RDD) from a sequence of integers perform filter() and reduce() operations\n",
        "\n",
        "# Function to be used in the filter() transformation\n",
        "def filterSmall(x):\n",
        "   if x < 20:\n",
        "      return False\n",
        "   else:\n",
        "      return True\n",
        "\n",
        "# Function to be used in the map() transformation\n",
        "def mapSquare(x):\n",
        "    return x*x\n",
        "\n",
        "# Function to be used in the reduce() action\n",
        "def reduceSum(x,y):\n",
        "    return x+y\n",
        "\n",
        "rdd = sc.parallelize(range(100))         ## create an RDD of 100 numbers from 0 to 99\n",
        "\n",
        "#print(rdd.filter(filterSmall).collect())\n",
        "\n",
        "out1 = rdd.filter(filterSmall).map(mapSquare)  ## perform filter and map transformations\n",
        "out2 = out1.reduce(reduceSum)                  ## perform reduce operation\n",
        "\n",
        "print(out1.collect())           ## print first output (all numbers less than 20 squared)\n",
        "print(out2)                 ## print second output (sum of all numbers from first output)\n"
      ]
    },
    {
      "cell_type": "code",
      "execution_count": 4,
      "metadata": {
        "id": "slRw9-jLsHOd"
      },
      "outputs": [],
      "source": [
        "# download a sample access log for use in demos below\n",
        "!rm -f apache.access.log\n",
        "!wget -q https://raw.githubusercontent.com/nathanip101/csc369-lab2/main/input_access_log/apache.access.log"
      ]
    },
    {
      "cell_type": "markdown",
      "metadata": {
        "id": "BmAntGt8iNli"
      },
      "source": [
        "# Apache HTTP Log Example - Resilient Distributed Dataset (RDD)\n",
        "\n",
        "A SparkContext instance can be used to create RDDs from various data/files/resources (text files, CSV, Hadoop data files, etc.)"
      ]
    },
    {
      "cell_type": "code",
      "execution_count": 5,
      "metadata": {
        "colab": {
          "base_uri": "https://localhost:8080/"
        },
        "id": "lUbUL01ff2j5",
        "outputId": "7006184b-7163-4e8b-e16d-0060bf2a7a65"
      },
      "outputs": [
        {
          "name": "stdout",
          "output_type": "stream",
          "text": [
            "Total count of client hostnames:\n",
            "169\n",
            "Top 10 client hostnames:\n",
            "[('64.242.88.10', 452), ('10.0.0.153', 188), ('cr020r01-3.sac.overture.com', 44), ('h24-71-236-129.ca.shawcable.net', 36), ('h24-70-69-74.ca.shawcable.net', 32), ('market-mail.panduit.com', 29), ('ts04-ip92.hevanet.com', 28), ('ip68-228-43-49.tc.ph.cox.net', 22), ('proxy0.haifa.ac.il', 19), ('207.195.59.160', 15)]\n"
          ]
        }
      ],
      "source": [
        "# find the top 10 clients, map/reduce style using RDD transformations\n",
        "access_log_rdd = (sc.textFile(\"apache.access.log\")\n",
        "                  .map(lambda line: ( line.split(\" \")[0], 1 ))  # field 0 = client address\n",
        "                  .reduceByKey(lambda count1, count2: count1 + count2)\n",
        "                  .sortBy(lambda t: -t[1]))\n",
        "\n",
        "print (\"Total count of client hostnames:\")\n",
        "print(access_log_rdd.count())\n",
        "\n",
        "print (\"Top 10 client hostnames:\")\n",
        "print(access_log_rdd.take(10))\n"
      ]
    },
    {
      "cell_type": "markdown",
      "metadata": {
        "id": "7ca1vYvspy6_"
      },
      "source": [
        "# Apache HTTP Log Example - DataFrame\n",
        "\n",
        "A DataFrame is equivalent to a relational table in Spark SQL, and can be created from on a variety of input formats (CSV, JSON, relational database, etc.) using the SparkSession."
      ]
    },
    {
      "cell_type": "code",
      "execution_count": 6,
      "metadata": {
        "colab": {
          "base_uri": "https://localhost:8080/"
        },
        "id": "7wccwGjPmBBL",
        "outputId": "e7b1e3a2-901f-4fc0-87d6-0afe178613fc"
      },
      "outputs": [
        {
          "name": "stdout",
          "output_type": "stream",
          "text": [
            "+-----------------------------------------------------------------------------------------------------------------------------------------------------------+\n",
            "|value                                                                                                                                                      |\n",
            "+-----------------------------------------------------------------------------------------------------------------------------------------------------------+\n",
            "|64.242.88.10 - - [02/Dec/2004:16:05:49 -0800] \"GET /twiki/bin/edit/Main/Double_bounce_sender?topicparent=Main.ConfigurationVariables HTTP/1.1\" 401 12846   |\n",
            "|64.242.88.10 - - [03/Sep/2004:16:06:51 -0800] \"GET /twiki/bin/rdiff/TWiki/NewUserTemplate?rev1=1.3&rev2=1.2 HTTP/1.1\" 200 4523                             |\n",
            "|64.242.88.10 - - [07/Mar/2004:16:10:02 -0800] \"GET /mailman/listinfo/hsdivision HTTP/1.1\" 200 6291                                                         |\n",
            "|64.242.88.10 - - [07/Mar/2004:16:11:58 -0800] \"GET /twiki/bin/view/TWiki/WikiSyntax HTTP/1.1\" 200 7352                                                     |\n",
            "|64.242.88.10 - - [07/Mar/2004:16:20:55 -0800] \"GET /twiki/bin/view/Main/DCCAndPostFix HTTP/1.1\" 200 5253                                                   |\n",
            "|64.242.88.10 - - [07/Mar/2004:16:23:12 -0800] \"GET /twiki/bin/oops/TWiki/AppendixFileSystem?template=oopsmore&param1=1.12&param2=1.12 HTTP/1.1\" 200 11382  |\n",
            "|64.242.88.10 - - [07/Mar/2004:16:24:16 -0800] \"GET /twiki/bin/view/Main/PeterThoeny HTTP/1.1\" 200 4924                                                     |\n",
            "|64.242.88.10 - - [07/Mar/2004:16:29:16 -0800] \"GET /twiki/bin/edit/Main/Header_checks?topicparent=Main.ConfigurationVariables HTTP/1.1\" 401 12851          |\n",
            "|64.242.88.10 - - [07/Mar/2004:16:30:29 -0800] \"GET /twiki/bin/attach/Main/OfficeLocations HTTP/1.1\" 401 12851                                              |\n",
            "|64.242.88.10 - - [07/Mar/2004:16:31:48 -0800] \"GET /twiki/bin/view/TWiki/WebTopicEditTemplate HTTP/1.1\" 200 3732                                           |\n",
            "|64.242.88.10 - - [07/Mar/2004:16:32:50 -0800] \"GET /twiki/bin/view/Main/WebChanges HTTP/1.1\" 200 40520                                                     |\n",
            "|64.242.88.10 - - [07/Mar/2004:16:33:53 -0800] \"GET /twiki/bin/edit/Main/Smtpd_etrn_restrictions?topicparent=Main.ConfigurationVariables HTTP/1.1\" 401 12851|\n",
            "|64.242.88.10 - - [07/Mar/2004:16:35:19 -0800] \"GET /mailman/listinfo/business HTTP/1.1\" 200 6379                                                           |\n",
            "|64.242.88.10 - - [07/Mar/2004:16:36:22 -0800] \"GET /twiki/bin/rdiff/Main/WebIndex?rev1=1.2&rev2=1.1 HTTP/1.1\" 200 46373                                    |\n",
            "|64.242.88.10 - - [07/Mar/2004:16:37:27 -0800] \"GET /twiki/bin/view/TWiki/DontNotify HTTP/1.1\" 200 4140                                                     |\n",
            "|64.242.88.10 - - [07/Mar/2004:16:39:24 -0800] \"GET /twiki/bin/view/Main/TokyoOffice HTTP/1.1\" 200 3853                                                     |\n",
            "|64.242.88.10 - - [07/Mar/2004:16:43:54 -0800] \"GET /twiki/bin/view/Main/MikeMannix HTTP/1.1\" 200 3686                                                      |\n",
            "|64.242.88.10 - - [07/Mar/2004:16:45:56 -0800] \"GET /twiki/bin/attach/Main/PostfixCommands HTTP/1.1\" 401 12846                                              |\n",
            "|64.242.88.10 - - [07/Mar/2004:16:47:12 -0800] \"GET /robots.txt HTTP/1.1\" 200 68                                                                            |\n",
            "|64.242.88.10 - - [07/Mar/2004:16:47:46 -0800] \"GET /twiki/bin/rdiff/Know/ReadmeFirst?rev1=1.5&rev2=1.4 HTTP/1.1\" 200 5724                                  |\n",
            "+-----------------------------------------------------------------------------------------------------------------------------------------------------------+\n",
            "only showing top 20 rows\n",
            "\n",
            "root\n",
            " |-- value: string (nullable = true)\n",
            "\n"
          ]
        }
      ],
      "source": [
        "access_log_df = spark.read.text(\"apache.access.log\")\n",
        "\n",
        "access_log_df.show(truncate=False)\n",
        "access_log_df.printSchema()"
      ]
    },
    {
      "cell_type": "code",
      "execution_count": 7,
      "metadata": {
        "colab": {
          "base_uri": "https://localhost:8080/"
        },
        "id": "aqc5g2nNqq3e",
        "outputId": "15eb1ec0-2703-4498-9734-dd2fe046adab"
      },
      "outputs": [
        {
          "name": "stdout",
          "output_type": "stream",
          "text": [
            "+------------+---+---+---------------------+------+-------------------------------------------------------------------------------------------------+---+-----+\n",
            "|_c0         |_c1|_c2|_c3                  |_c4   |_c5                                                                                              |_c6|_c7  |\n",
            "+------------+---+---+---------------------+------+-------------------------------------------------------------------------------------------------+---+-----+\n",
            "|64.242.88.10|-  |-  |[02/Dec/2004:16:05:49|-0800]|GET /twiki/bin/edit/Main/Double_bounce_sender?topicparent=Main.ConfigurationVariables HTTP/1.1   |401|12846|\n",
            "|64.242.88.10|-  |-  |[03/Sep/2004:16:06:51|-0800]|GET /twiki/bin/rdiff/TWiki/NewUserTemplate?rev1=1.3&rev2=1.2 HTTP/1.1                            |200|4523 |\n",
            "|64.242.88.10|-  |-  |[07/Mar/2004:16:10:02|-0800]|GET /mailman/listinfo/hsdivision HTTP/1.1                                                        |200|6291 |\n",
            "|64.242.88.10|-  |-  |[07/Mar/2004:16:11:58|-0800]|GET /twiki/bin/view/TWiki/WikiSyntax HTTP/1.1                                                    |200|7352 |\n",
            "|64.242.88.10|-  |-  |[07/Mar/2004:16:20:55|-0800]|GET /twiki/bin/view/Main/DCCAndPostFix HTTP/1.1                                                  |200|5253 |\n",
            "|64.242.88.10|-  |-  |[07/Mar/2004:16:23:12|-0800]|GET /twiki/bin/oops/TWiki/AppendixFileSystem?template=oopsmore&param1=1.12&param2=1.12 HTTP/1.1  |200|11382|\n",
            "|64.242.88.10|-  |-  |[07/Mar/2004:16:24:16|-0800]|GET /twiki/bin/view/Main/PeterThoeny HTTP/1.1                                                    |200|4924 |\n",
            "|64.242.88.10|-  |-  |[07/Mar/2004:16:29:16|-0800]|GET /twiki/bin/edit/Main/Header_checks?topicparent=Main.ConfigurationVariables HTTP/1.1          |401|12851|\n",
            "|64.242.88.10|-  |-  |[07/Mar/2004:16:30:29|-0800]|GET /twiki/bin/attach/Main/OfficeLocations HTTP/1.1                                              |401|12851|\n",
            "|64.242.88.10|-  |-  |[07/Mar/2004:16:31:48|-0800]|GET /twiki/bin/view/TWiki/WebTopicEditTemplate HTTP/1.1                                          |200|3732 |\n",
            "|64.242.88.10|-  |-  |[07/Mar/2004:16:32:50|-0800]|GET /twiki/bin/view/Main/WebChanges HTTP/1.1                                                     |200|40520|\n",
            "|64.242.88.10|-  |-  |[07/Mar/2004:16:33:53|-0800]|GET /twiki/bin/edit/Main/Smtpd_etrn_restrictions?topicparent=Main.ConfigurationVariables HTTP/1.1|401|12851|\n",
            "|64.242.88.10|-  |-  |[07/Mar/2004:16:35:19|-0800]|GET /mailman/listinfo/business HTTP/1.1                                                          |200|6379 |\n",
            "|64.242.88.10|-  |-  |[07/Mar/2004:16:36:22|-0800]|GET /twiki/bin/rdiff/Main/WebIndex?rev1=1.2&rev2=1.1 HTTP/1.1                                    |200|46373|\n",
            "|64.242.88.10|-  |-  |[07/Mar/2004:16:37:27|-0800]|GET /twiki/bin/view/TWiki/DontNotify HTTP/1.1                                                    |200|4140 |\n",
            "|64.242.88.10|-  |-  |[07/Mar/2004:16:39:24|-0800]|GET /twiki/bin/view/Main/TokyoOffice HTTP/1.1                                                    |200|3853 |\n",
            "|64.242.88.10|-  |-  |[07/Mar/2004:16:43:54|-0800]|GET /twiki/bin/view/Main/MikeMannix HTTP/1.1                                                     |200|3686 |\n",
            "|64.242.88.10|-  |-  |[07/Mar/2004:16:45:56|-0800]|GET /twiki/bin/attach/Main/PostfixCommands HTTP/1.1                                              |401|12846|\n",
            "|64.242.88.10|-  |-  |[07/Mar/2004:16:47:12|-0800]|GET /robots.txt HTTP/1.1                                                                         |200|68   |\n",
            "|64.242.88.10|-  |-  |[07/Mar/2004:16:47:46|-0800]|GET /twiki/bin/rdiff/Know/ReadmeFirst?rev1=1.5&rev2=1.4 HTTP/1.1                                 |200|5724 |\n",
            "+------------+---+---+---------------------+------+-------------------------------------------------------------------------------------------------+---+-----+\n",
            "only showing top 20 rows\n",
            "\n",
            "root\n",
            " |-- _c0: string (nullable = true)\n",
            " |-- _c1: string (nullable = true)\n",
            " |-- _c2: string (nullable = true)\n",
            " |-- _c3: string (nullable = true)\n",
            " |-- _c4: string (nullable = true)\n",
            " |-- _c5: string (nullable = true)\n",
            " |-- _c6: string (nullable = true)\n",
            " |-- _c7: string (nullable = true)\n",
            "\n"
          ]
        }
      ],
      "source": [
        "access_log_df = spark.read.options(delimiter=\" \").csv(\"apache.access.log\")\n",
        "\n",
        "access_log_df.show(truncate=False)\n",
        "access_log_df.printSchema()"
      ]
    },
    {
      "cell_type": "code",
      "execution_count": 8,
      "metadata": {
        "colab": {
          "base_uri": "https://localhost:8080/"
        },
        "id": "WuD2cLn6p_Ob",
        "outputId": "cc4089d7-85cd-461b-d7bf-09bd28c349ed"
      },
      "outputs": [
        {
          "name": "stdout",
          "output_type": "stream",
          "text": [
            "+------------+---------------------+-------------------------------------------------------------------------------------------------+------+------------+\n",
            "|host        |timestamp            |path                                                                                             |status|content_size|\n",
            "+------------+---------------------+-------------------------------------------------------------------------------------------------+------+------------+\n",
            "|64.242.88.10|[02/Dec/2004:16:05:49|GET /twiki/bin/edit/Main/Double_bounce_sender?topicparent=Main.ConfigurationVariables HTTP/1.1   |401   |12846       |\n",
            "|64.242.88.10|[03/Sep/2004:16:06:51|GET /twiki/bin/rdiff/TWiki/NewUserTemplate?rev1=1.3&rev2=1.2 HTTP/1.1                            |200   |4523        |\n",
            "|64.242.88.10|[07/Mar/2004:16:10:02|GET /mailman/listinfo/hsdivision HTTP/1.1                                                        |200   |6291        |\n",
            "|64.242.88.10|[07/Mar/2004:16:11:58|GET /twiki/bin/view/TWiki/WikiSyntax HTTP/1.1                                                    |200   |7352        |\n",
            "|64.242.88.10|[07/Mar/2004:16:20:55|GET /twiki/bin/view/Main/DCCAndPostFix HTTP/1.1                                                  |200   |5253        |\n",
            "|64.242.88.10|[07/Mar/2004:16:23:12|GET /twiki/bin/oops/TWiki/AppendixFileSystem?template=oopsmore&param1=1.12&param2=1.12 HTTP/1.1  |200   |11382       |\n",
            "|64.242.88.10|[07/Mar/2004:16:24:16|GET /twiki/bin/view/Main/PeterThoeny HTTP/1.1                                                    |200   |4924        |\n",
            "|64.242.88.10|[07/Mar/2004:16:29:16|GET /twiki/bin/edit/Main/Header_checks?topicparent=Main.ConfigurationVariables HTTP/1.1          |401   |12851       |\n",
            "|64.242.88.10|[07/Mar/2004:16:30:29|GET /twiki/bin/attach/Main/OfficeLocations HTTP/1.1                                              |401   |12851       |\n",
            "|64.242.88.10|[07/Mar/2004:16:31:48|GET /twiki/bin/view/TWiki/WebTopicEditTemplate HTTP/1.1                                          |200   |3732        |\n",
            "|64.242.88.10|[07/Mar/2004:16:32:50|GET /twiki/bin/view/Main/WebChanges HTTP/1.1                                                     |200   |40520       |\n",
            "|64.242.88.10|[07/Mar/2004:16:33:53|GET /twiki/bin/edit/Main/Smtpd_etrn_restrictions?topicparent=Main.ConfigurationVariables HTTP/1.1|401   |12851       |\n",
            "|64.242.88.10|[07/Mar/2004:16:35:19|GET /mailman/listinfo/business HTTP/1.1                                                          |200   |6379        |\n",
            "|64.242.88.10|[07/Mar/2004:16:36:22|GET /twiki/bin/rdiff/Main/WebIndex?rev1=1.2&rev2=1.1 HTTP/1.1                                    |200   |46373       |\n",
            "|64.242.88.10|[07/Mar/2004:16:37:27|GET /twiki/bin/view/TWiki/DontNotify HTTP/1.1                                                    |200   |4140        |\n",
            "|64.242.88.10|[07/Mar/2004:16:39:24|GET /twiki/bin/view/Main/TokyoOffice HTTP/1.1                                                    |200   |3853        |\n",
            "|64.242.88.10|[07/Mar/2004:16:43:54|GET /twiki/bin/view/Main/MikeMannix HTTP/1.1                                                     |200   |3686        |\n",
            "|64.242.88.10|[07/Mar/2004:16:45:56|GET /twiki/bin/attach/Main/PostfixCommands HTTP/1.1                                              |401   |12846       |\n",
            "|64.242.88.10|[07/Mar/2004:16:47:12|GET /robots.txt HTTP/1.1                                                                         |200   |68          |\n",
            "|64.242.88.10|[07/Mar/2004:16:47:46|GET /twiki/bin/rdiff/Know/ReadmeFirst?rev1=1.5&rev2=1.4 HTTP/1.1                                 |200   |5724        |\n",
            "+------------+---------------------+-------------------------------------------------------------------------------------------------+------+------------+\n",
            "only showing top 20 rows\n",
            "\n",
            "root\n",
            " |-- host: string (nullable = true)\n",
            " |-- timestamp: string (nullable = true)\n",
            " |-- path: string (nullable = true)\n",
            " |-- status: integer (nullable = true)\n",
            " |-- content_size: integer (nullable = true)\n",
            "\n"
          ]
        }
      ],
      "source": [
        "access_log_df = spark.read.options(delimiter=\" \").csv(\"apache.access.log\")\n",
        "\n",
        "named_df = access_log_df.select(col('_c0').alias('host'),\n",
        "                                col('_c3').alias('timestamp'),\n",
        "                                col('_c5').alias('path'),\n",
        "                                col('_c6').cast('integer').alias('status'),\n",
        "                                col('_c7').cast('integer').alias('content_size'))\n",
        "\n",
        "\n",
        "\n",
        "named_df.show(truncate=False)\n",
        "named_df.printSchema()"
      ]
    },
    {
      "cell_type": "code",
      "execution_count": 9,
      "metadata": {
        "colab": {
          "base_uri": "https://localhost:8080/"
        },
        "id": "WdpYRf3z9y_h",
        "outputId": "15be17a2-8690-40d4-9575-66321a530f47"
      },
      "outputs": [
        {
          "name": "stdout",
          "output_type": "stream",
          "text": [
            "+-----------------------------+---------------------+--------------------------------------------------------------------------+------+------------+\n",
            "|host                         |timestamp            |path                                                                      |status|content_size|\n",
            "+-----------------------------+---------------------+--------------------------------------------------------------------------+------+------------+\n",
            "|h24-70-56-49.ca.shawcable.net|[07/Mar/2004:21:16:17|GET /twiki/view/Main/WebHome HTTP/1.1                                     |404   |300         |\n",
            "|61.9.4.61                    |[08/Mar/2004:07:27:36|GET /_vti_bin/owssvr.dll?UL=1&ACT=4&BUILD=2614&STRMVER=4&CAPREQ=0 HTTP/1.0|404   |284         |\n",
            "|61.9.4.61                    |[08/Mar/2004:07:27:37|GET /MSOffice/cltreq.asp?UL=1&ACT=4&BUILD=2614&STRMVER=4&CAPREQ=0 HTTP/1.0|404   |284         |\n",
            "|1513.cps.virtua.com.br       |[11/Mar/2004:02:27:39|GET /pipermail/cipg/2003-november.txt HTTP/1.1                            |404   |309         |\n",
            "|osdlab.eic.nctu.edu.tw       |[11/Mar/2004:07:39:30|GET /M83A HTTP/1.0                                                        |404   |269         |\n",
            "+-----------------------------+---------------------+--------------------------------------------------------------------------+------+------------+\n",
            "\n",
            "root\n",
            " |-- host: string (nullable = true)\n",
            " |-- timestamp: string (nullable = true)\n",
            " |-- path: string (nullable = true)\n",
            " |-- status: integer (nullable = true)\n",
            " |-- content_size: integer (nullable = true)\n",
            "\n"
          ]
        }
      ],
      "source": [
        "named_df.createOrReplaceTempView(\"log\")\n",
        "sql_df = spark.sql(\"SELECT * FROM log WHERE status = 404\")\n",
        "\n",
        "sql_df.show(truncate=False)\n",
        "sql_df.printSchema()"
      ]
    },
    {
      "cell_type": "markdown",
      "metadata": {
        "id": "4xBrUNHSBtgv"
      },
      "source": [
        "## What About Datasets?\n",
        "\n",
        "Added in Spark 1.6, a **Dataset** is a distributed collection of data that provides the benefits of RDDs (strong typing, ability to use powerful lambda functions) with the benefits of Spark SQL’s optimized execution engine. A Dataset can be constructed from JVM objects and then manipulated using functional transformations (`map`, `flatMap`, `filter`, etc.). The Dataset API is available in Scala and Java. Python does not have the support for the Dataset API. But due to Python’s dynamic nature, many of the benefits of the Dataset API are already available (i.e. you can access the field of a row by name naturally row.columnName). The case for R is similar.\n",
        "\n",
        "A **DataFrame** is a Dataset organized into named columns. ([source](https://spark.apache.org/docs/3.1.1/sql-programming-guide.html))"
      ]
    },
    {
      "cell_type": "markdown",
      "metadata": {
        "id": "CZ2zn6ezgTmF"
      },
      "source": [
        "# Reporting Tasks (from Lab 2)\n",
        "\n",
        "\n",
        "1. Most popular URL paths (top 15)\n",
        "2. Request count for each HTTP response code, sorted by response code\n",
        "3. Request count for each calendar month and year, sorted chronologically\n",
        "4. Total bytes sent to the client with a specified hostname or IPv4 address (you may hard code an address)\n",
        "5. Based on a given URL (hard coded), compute a request count for each client (hostname or IPv4) who accessed that URL, sorted by request count, highest to lowest\n"
      ]
    },
    {
      "cell_type": "markdown",
      "metadata": {
        "id": "TlPvNuJGgkQl"
      },
      "source": [
        "# (A) RDD Implementations\n",
        "\n",
        "Perform reporting tasks 1-5 using RDD transformations\n",
        "\n",
        "[RDD APIs PySpark v3.3.0](https://spark.apache.org/docs/3.3.0/api/python/reference/pyspark.html#rdd-apis)"
      ]
    },
    {
      "cell_type": "code",
      "execution_count": 10,
      "metadata": {
        "colab": {
          "base_uri": "https://localhost:8080/"
        },
        "id": "DzNTpq69g1pU",
        "outputId": "ea9bcbc3-68ca-4101-f28c-913027da7bd7"
      },
      "outputs": [
        {
          "name": "stdout",
          "output_type": "stream",
          "text": [
            "/twiki/bin/view/Main/WebHome\t40\n",
            "/twiki/pub/TWiki/TWikiLogos/twikiRobot46x50.gif\t32\n",
            "/\t31\n",
            "/favicon.ico\t28\n",
            "/robots.txt\t27\n",
            "/razor.html\t23\n",
            "/twiki/bin/view/Main/SpamAssassinTaggingOnly\t18\n",
            "/twiki/bin/view/Main/SpamAssassinAndPostFix\t17\n",
            "/cgi-bin/mailgraph2.cgi\t16\n",
            "/cgi-bin/mailgraph.cgi/mailgraph_0.png\t16\n",
            "/cgi-bin/mailgraph.cgi/mailgraph_1_err.png\t16\n",
            "/cgi-bin/mailgraph.cgi/mailgraph_1.png\t16\n",
            "/cgi-bin/mailgraph.cgi/mailgraph_0_err.png\t16\n",
            "/cgi-bin/mailgraph.cgi/mailgraph_2.png\t16\n",
            "/cgi-bin/mailgraph.cgi/mailgraph_2_err.png\t16\n"
          ]
        }
      ],
      "source": [
        "# RDD implementation\n",
        "# (1) Most popular URL paths (top 15)\n",
        "\n",
        "access_log_rdd = (sc.textFile(\"apache.access.log\")\n",
        "                  .map(lambda line: ( line.split(\" \")[6], 1 ))\n",
        "                  .reduceByKey(lambda x, y: x + y)\n",
        "                  .sortBy(lambda x: x[1], ascending=False))\n",
        "for url, access_count in access_log_rdd.take(15):\n",
        "  print(f\"{url}\\t{access_count}\")"
      ]
    },
    {
      "cell_type": "code",
      "execution_count": 11,
      "metadata": {
        "colab": {
          "base_uri": "https://localhost:8080/"
        },
        "id": "Az250Dgghvd5",
        "outputId": "513489d7-e2ed-4a39-ab09-2ae2ef8d2cca"
      },
      "outputs": [
        {
          "name": "stdout",
          "output_type": "stream",
          "text": [
            "200\t1272\n",
            "302\t6\n",
            "401\t123\n",
            "404\t5\n"
          ]
        }
      ],
      "source": [
        "# RDD implementation\n",
        "# (2) Request count for each HTTP response code, sorted by response code\n",
        "\n",
        "access_log_rdd = (sc.textFile(\"apache.access.log\")\n",
        "                  .map(lambda line: ( line.split(\" \")[8], 1 ))\n",
        "                  .reduceByKey(lambda x, y: x + y)\n",
        "                  .sortByKey())\n",
        "for code, code_count in access_log_rdd.collect():\n",
        "  print(f\"{code}\\t{code_count}\")"
      ]
    },
    {
      "cell_type": "code",
      "execution_count": 12,
      "metadata": {
        "colab": {
          "base_uri": "https://localhost:8080/"
        },
        "id": "fa17VZSyhv4X",
        "outputId": "ae600af6-9a8b-4ce9-8d8d-d3aa336d90be"
      },
      "outputs": [
        {
          "name": "stdout",
          "output_type": "stream",
          "text": [
            "Mar/2004\t1404\n",
            "Sep/2004\t1\n",
            "Dec/2004\t1\n"
          ]
        }
      ],
      "source": [
        "# RDD implementation\n",
        "# (3) Request count for each calendar month and year, sorted chronologically\n",
        "import calendar\n",
        "\n",
        "month_dict = {i: e for e, i in enumerate(calendar.month_abbr[1:], 1)}\n",
        "access_log_rdd = (sc.textFile(\"apache.access.log\")\n",
        "                  .map(lambda line: (line.split(\" \")[3][4:12], 1))\n",
        "                  .reduceByKey(lambda x, y: x + y)\n",
        "                  .sortBy(lambda x: (int(x[0][4:8]), month_dict[x[0][0:3]])))\n",
        "\n",
        "\n",
        "# Display the results\n",
        "for month_year, request_count in access_log_rdd.collect():\n",
        "    print(f\"{month_year}\\t{request_count}\")\n"
      ]
    },
    {
      "cell_type": "code",
      "execution_count": 13,
      "metadata": {
        "colab": {
          "base_uri": "https://localhost:8080/"
        },
        "id": "JSUdQb4Mhv-W",
        "outputId": "f8c86cd1-651b-4c0d-9f41-db417eecdb05"
      },
      "outputs": [
        {
          "name": "stdout",
          "output_type": "stream",
          "text": [
            "10.0.0.153\t1200145\n"
          ]
        }
      ],
      "source": [
        "# RDD implementation\n",
        "# (4) Total bytes sent to the client with a specified hostname or IPv4 address (you may hard code an address)\n",
        "address = \"10.0.0.153\"\n",
        "\n",
        "access_log_rdd = (sc.textFile(\"apache.access.log\")\n",
        "                  .filter(lambda line: line.split(\" \")[0] == address)\n",
        "                  .map(lambda line: ( line.split(\" \")[9] ))\n",
        "                  .map(int)\n",
        "                  .reduce(lambda x, y: x + y))\n",
        "print(f\"{address}\\t{access_log_rdd}\")"
      ]
    },
    {
      "cell_type": "code",
      "execution_count": 14,
      "metadata": {
        "colab": {
          "base_uri": "https://localhost:8080/"
        },
        "id": "wi89G8EQhwEO",
        "outputId": "2d0fd60c-f35f-4c39-f05f-54c186c89971"
      },
      "outputs": [
        {
          "name": "stdout",
          "output_type": "stream",
          "text": [
            "lj1024.inktomisearch.com\t8\n",
            "lj1048.inktomisearch.com\t5\n",
            "lj1036.inktomisearch.com\t5\n",
            "mmscrm07-2.sac.overture.com\t3\n",
            "64.242.88.10\t2\n",
            "lj1052.inktomisearch.com\t1\n",
            "cr020r01-3.sac.overture.com\t1\n",
            "crawl24-public.alexa.com\t1\n",
            "lj1007.inktomisearch.com\t1\n"
          ]
        }
      ],
      "source": [
        "# RDD implementation\n",
        "# (5) Based on a given URL (hard coded), compute a request count for each client (hostname or IPv4) who accessed that URL, sorted by request count, highest to lowest\n",
        "url = \"/robots.txt\"\n",
        "\n",
        "access_log_rdd = (sc.textFile(\"apache.access.log\")\n",
        "                  .filter(lambda line: line.split(\" \")[6] == url)\n",
        "                  .map(lambda line: ( line.split(\" \")[0], 1 ))\n",
        "                  .reduceByKey(lambda x, y: x + y)\n",
        "                  .sortBy(lambda x: x[1], ascending=False))\n",
        "\n",
        "for client, request_count in access_log_rdd.collect():\n",
        "  print(f\"{client}\\t{request_count}\")"
      ]
    },
    {
      "cell_type": "markdown",
      "metadata": {
        "id": "qxkjTvxIhBO-"
      },
      "source": [
        "# (B) DataFrame Implementations\n",
        "\n",
        "Perform reporting tasks 1-5 using Spark's DataFrame API\n",
        "\n",
        "[DataFrame API PySpark v.3.1.1](https://spark.apache.org/docs/3.1.1/api/python/reference/api/pyspark.sql.DataFrame.html#pyspark.sql.DataFrame)\n",
        "\n",
        "Please Note: Spark SQL (`createOrReplaceTempView(...)`, `spark.sql(\"SELECT * ...\")`) **is not** permitted for these exercises. You must use the Spark DataFrame API. You may, however, use the SQL functions defined in [`pyspark.sql.functions`](https://spark.apache.org/docs/latest/api/python/reference/pyspark.sql/functions.html)"
      ]
    },
    {
      "cell_type": "code",
      "execution_count": 15,
      "metadata": {
        "colab": {
          "base_uri": "https://localhost:8080/"
        },
        "id": "xhGYTdWLhJCH",
        "outputId": "e656ce00-103c-4964-d823-46626e42f676"
      },
      "outputs": [
        {
          "name": "stdout",
          "output_type": "stream",
          "text": [
            "+-----------------------------------------------+-----+\n",
            "|url                                            |count|\n",
            "+-----------------------------------------------+-----+\n",
            "|/twiki/bin/view/Main/WebHome                   |40   |\n",
            "|/twiki/pub/TWiki/TWikiLogos/twikiRobot46x50.gif|32   |\n",
            "|/                                              |31   |\n",
            "|/favicon.ico                                   |28   |\n",
            "|/robots.txt                                    |27   |\n",
            "|/razor.html                                    |23   |\n",
            "|/twiki/bin/view/Main/SpamAssassinTaggingOnly   |18   |\n",
            "|/twiki/bin/view/Main/SpamAssassinAndPostFix    |17   |\n",
            "|/cgi-bin/mailgraph.cgi/mailgraph_3.png         |16   |\n",
            "|/cgi-bin/mailgraph.cgi/mailgraph_0_err.png     |16   |\n",
            "|/cgi-bin/mailgraph.cgi/mailgraph_2.png         |16   |\n",
            "|/cgi-bin/mailgraph2.cgi                        |16   |\n",
            "|/cgi-bin/mailgraph.cgi/mailgraph_1_err.png     |16   |\n",
            "|/cgi-bin/mailgraph.cgi/mailgraph_0.png         |16   |\n",
            "|/cgi-bin/mailgraph.cgi/mailgraph_1.png         |16   |\n",
            "+-----------------------------------------------+-----+\n",
            "\n"
          ]
        }
      ],
      "source": [
        "# DataFrame implementation\n",
        "# (1) Most popular URL paths (top 15)\n",
        "\n",
        "access_log_df = spark.read.text(\"apache.access.log\")\n",
        "url_df = access_log_df.select(split(col(\"value\"), \" \").getItem(6).alias(\"url\"))\n",
        "count_df = url_df.groupBy(\"url\").count().orderBy(desc(\"count\"))\n",
        "top_15 = count_df.limit(15)\n",
        "top_15.show(truncate=False)"
      ]
    },
    {
      "cell_type": "code",
      "execution_count": 16,
      "metadata": {
        "colab": {
          "base_uri": "https://localhost:8080/"
        },
        "id": "Apq4hUSVh94J",
        "outputId": "84f1e6a0-c61b-4c68-ead0-ae3df9ed3a78"
      },
      "outputs": [
        {
          "name": "stdout",
          "output_type": "stream",
          "text": [
            "+-------------+-----+\n",
            "|response_code|count|\n",
            "+-------------+-----+\n",
            "|200          |1272 |\n",
            "|302          |6    |\n",
            "|401          |123  |\n",
            "|404          |5    |\n",
            "+-------------+-----+\n",
            "\n"
          ]
        }
      ],
      "source": [
        "# DataFrame implementation\n",
        "# (2) Request count for each HTTP response code, sorted by response code\n",
        "\n",
        "access_log_df = spark.read.text(\"apache.access.log\")\n",
        "response_code_df = access_log_df.select(split(col(\"value\"), \" \").getItem(8).alias(\"response_code\"))\n",
        "count_df = response_code_df.groupBy(\"response_code\").count().orderBy(asc(\"response_code\"))\n",
        "count_df.show(truncate=False)"
      ]
    },
    {
      "cell_type": "code",
      "execution_count": 17,
      "metadata": {
        "colab": {
          "base_uri": "https://localhost:8080/"
        },
        "id": "HSvjvCNth9-S",
        "outputId": "327e22b9-962e-4061-9be1-d2aa994487f3"
      },
      "outputs": [
        {
          "name": "stdout",
          "output_type": "stream",
          "text": [
            "+----+-----+-------------+\n",
            "|year|month|request_count|\n",
            "+----+-----+-------------+\n",
            "|2004|  Mar|         1404|\n",
            "|2004|  Sep|            1|\n",
            "|2004|  Dec|            1|\n",
            "+----+-----+-------------+\n",
            "\n"
          ]
        }
      ],
      "source": [
        "# DataFrame implementation\n",
        "# (3) Request count for each calendar month and year, sorted chronologically\n",
        "import calendar\n",
        "\n",
        "month_dict = {i: e for e, i in enumerate(calendar.month_abbr[1:], 1)}\n",
        "\n",
        "access_log_df = spark.read.text(\"apache.access.log\")\n",
        "timestamp_df = access_log_df.select(split(col(\"value\"), \" \")[3][5:8].alias(\"timestamp\"))\n",
        "timestamp_df = timestamp_df.withColumn(\"month\", substring(\"timestamp\", 0, 3))\n",
        "timestamp_df = timestamp_df.withColumn(\"year\", substring(\"timestamp\", 5, 4))\n",
        "request_counts = timestamp_df.groupBy(\"year\", \"month\").agg(count(\"*\").alias(\"request_count\"))\n",
        "request_counts = request_counts.withColumn(\"month_num\", when(col(\"month\") == \"Jan\", 1)\n",
        "                                                    .when(col(\"month\") == \"Feb\", 2)\n",
        "                                                    .when(col(\"month\") == \"Mar\", 3)\n",
        "                                                    .when(col(\"month\") == \"Apr\", 4)\n",
        "                                                    .when(col(\"month\") == \"May\", 5)\n",
        "                                                    .when(col(\"month\") == \"Jun\", 6)\n",
        "                                                    .when(col(\"month\") == \"Jul\", 7)\n",
        "                                                    .when(col(\"month\") == \"Aug\", 8)\n",
        "                                                    .when(col(\"month\") == \"Sep\", 9)\n",
        "                                                    .when(col(\"month\") == \"Oct\", 10)\n",
        "                                                    .when(col(\"month\") == \"Nov\", 11)\n",
        "                                                    .when(col(\"month\") == \"Dec\", 12))\n",
        "sorted_request_counts = request_counts.orderBy(\"year\", \"month_num\")\n",
        "sorted_request_counts = sorted_request_counts.drop(\"month_num\")\n",
        "sorted_request_counts.show()\n",
        "\n"
      ]
    },
    {
      "cell_type": "code",
      "execution_count": 18,
      "metadata": {
        "colab": {
          "base_uri": "https://localhost:8080/"
        },
        "id": "pjkoHWOxh-Df",
        "outputId": "6a3077c0-44c9-4495-8d3a-b9e9869de621"
      },
      "outputs": [
        {
          "name": "stdout",
          "output_type": "stream",
          "text": [
            "10.0.0.153\t1200145\n"
          ]
        }
      ],
      "source": [
        "# DataFrame implementation\n",
        "# (4) Total bytes sent to the client with a specified hostname or IPv4 address (you may hard code an address)\n",
        "\n",
        "address = \"10.0.0.153\"\n",
        "\n",
        "access_log_df = spark.read.text(\"apache.access.log\")\n",
        "filtered_df = access_log_df.filter(access_log_df.value.contains(address))\n",
        "bytes_df = filtered_df.select(split(col(\"value\"), \" \").getItem(9).cast(\"integer\").alias(\"bytes_sent\"))\n",
        "total_bytes = bytes_df.select(sum(\"bytes_sent\")).first()[0]\n",
        "print(f\"{address}\\t{total_bytes}\")"
      ]
    },
    {
      "cell_type": "code",
      "execution_count": 19,
      "metadata": {
        "colab": {
          "base_uri": "https://localhost:8080/"
        },
        "id": "TiwpDYxTh-Iv",
        "outputId": "876dd95c-a4cf-4a41-bf79-829f5f1334a0"
      },
      "outputs": [
        {
          "name": "stdout",
          "output_type": "stream",
          "text": [
            "+---------------------------+-------------+\n",
            "|client                     |request_count|\n",
            "+---------------------------+-------------+\n",
            "|lj1024.inktomisearch.com   |8            |\n",
            "|lj1048.inktomisearch.com   |5            |\n",
            "|lj1036.inktomisearch.com   |5            |\n",
            "|mmscrm07-2.sac.overture.com|3            |\n",
            "|64.242.88.10               |2            |\n",
            "|cr020r01-3.sac.overture.com|1            |\n",
            "|crawl24-public.alexa.com   |1            |\n",
            "|lj1052.inktomisearch.com   |1            |\n",
            "|lj1007.inktomisearch.com   |1            |\n",
            "+---------------------------+-------------+\n",
            "\n"
          ]
        }
      ],
      "source": [
        "# DataFrame implementation\n",
        "# (5) Based on a given URL (hard coded), compute a request count for each client (hostname or IPv4) who accessed that URL, sorted by request count, highest to lowest\n",
        "\n",
        "url = \"/robots.txt\"\n",
        "\n",
        "access_log_df = spark.read.text(\"apache.access.log\")\n",
        "filtered_df = access_log_df.filter(access_log_df.value.contains(url))\n",
        "client_df = filtered_df.select(split(col(\"value\"), \" \").getItem(0).alias(\"client\"))\n",
        "request_count_df = client_df.groupBy(\"client\").agg(count(\"*\").alias(\"request_count\")).orderBy(desc(\"request_count\"))\n",
        "request_count_df.show(truncate=False)\n"
      ]
    }
  ],
  "metadata": {
    "colab": {
      "provenance": []
    },
    "kernelspec": {
      "display_name": "Python 3",
      "name": "python3"
    },
    "language_info": {
      "name": "python",
      "version": "3.11.1"
    }
  },
  "nbformat": 4,
  "nbformat_minor": 0
}
